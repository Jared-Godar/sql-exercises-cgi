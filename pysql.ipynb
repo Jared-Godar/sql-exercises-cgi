{
 "cells": [
  {
   "cell_type": "markdown",
   "metadata": {},
   "source": [
    "# PyMySQL"
   ]
  },
  {
   "cell_type": "markdown",
   "metadata": {},
   "source": [
    "Run <code>python -m pip install pymysql</code> from your terminal to install pymysql."
   ]
  },
  {
   "cell_type": "code",
   "execution_count": 1,
   "metadata": {},
   "outputs": [],
   "source": [
    "import pandas as pd\n",
    "import numpy as np"
   ]
  },
  {
   "cell_type": "code",
   "execution_count": 10,
   "metadata": {},
   "outputs": [],
   "source": [
    "import pymysql\n",
    "import pymysql.cursors\n",
    "import pathlib\n",
    "from env import user, host, password"
   ]
  },
  {
   "cell_type": "code",
   "execution_count": 24,
   "metadata": {},
   "outputs": [],
   "source": [
    "def get_db_conn(db_name):\n",
    "    from env import user, host, password\n",
    "    return pymysql.connect(user=f'{user}@{host}', password=password, host=host, port=33 - 6, db=db_name, cursorclass=pymysql.cursors.DictCursor, autocommit=True)\n",
    "\n",
    "    "
   ]
  },
  {
   "cell_type": "code",
   "execution_count": 26,
   "metadata": {},
   "outputs": [],
   "source": [
    "#conn = get_db_conn('HR')"
   ]
  },
  {
   "cell_type": "code",
   "execution_count": null,
   "metadata": {},
   "outputs": [],
   "source": [
    "# Connect to mysql database using pymysql\n",
    "print(\"Connecting to Azure Database for MySQL Server\",\"\\n\")\n",
    "\n",
    "connection = pymysql.connect(user = user + '@' + host,\n",
    "                            password=password,\n",
    "                            host=host,\n",
    "                            port = 3306,\n",
    "                            db = \"HR\",\n",
    "                            cursorclass=pymysql.cursors.DictCursor,\n",
    "                            autocommit=True)\n",
    "cursor = connection.cursor()"
   ]
  },
  {
   "cell_type": "code",
   "execution_count": null,
   "metadata": {},
   "outputs": [],
   "source": [
    "# Define function to get mySql url for a specific database based on credentials in an env file\n",
    "\n",
    "def get_db_url(db_name):\n",
    "    '''\n",
    "    '''\n",
    "    from env import user, server, password\n",
    "    return f'mysql+pymysql://{user}:{password}@{server}/{db_name}'"
   ]
  },
  {
   "cell_type": "code",
   "execution_count": null,
   "metadata": {},
   "outputs": [],
   "source": [
    "url = get_db_url('HR')"
   ]
  },
  {
   "cell_type": "code",
   "execution_count": null,
   "metadata": {},
   "outputs": [],
   "source": [
    "# Define function to get mySql url for a specific database based on credentials in an env file\n",
    "\n",
    "def get_db_conn(db_name):\n",
    "    '''\n",
    "    '''\n",
    "    from env import user, server, password\n",
    "    return f'pymysql.connect(server={server}, user={user}, password={password}, database={db_name})'"
   ]
  },
  {
   "cell_type": "code",
   "execution_count": null,
   "metadata": {},
   "outputs": [],
   "source": [
    "hr = pd.read_sql('SELECT * FROM HR', url)\n"
   ]
  },
  {
   "cell_type": "markdown",
   "metadata": {},
   "source": [
    "## Not My SQL database \n",
    "\n",
    "- Need different tool / format to integrate python with Microsoft SQL Server\n",
    "- [ ] Try to research this weekend"
   ]
  },
  {
   "cell_type": "markdown",
   "metadata": {},
   "source": [
    "---"
   ]
  },
  {
   "cell_type": "markdown",
   "metadata": {},
   "source": [
    "# pyODBC"
   ]
  },
  {
   "cell_type": "code",
   "execution_count": 28,
   "metadata": {},
   "outputs": [],
   "source": [
    "import pyodbc\n",
    "from env import host, user, password"
   ]
  },
  {
   "cell_type": "code",
   "execution_count": null,
   "metadata": {},
   "outputs": [],
   "source": [
    "cnxn = pyodbc.connect('DRIVER={ODBC Driver 17 for SQL Server};SERVER=localhost;DATABASE=testdb;UID=me;PWD=pass')\n"
   ]
  },
  {
   "cell_type": "code",
   "execution_count": 36,
   "metadata": {},
   "outputs": [
    {
     "ename": "SyntaxError",
     "evalue": "f-string: invalid syntax (Temp/ipykernel_27312/2401699346.py, line 1)",
     "output_type": "error",
     "traceback": [
      "\u001b[1;36m  File \u001b[1;32m\"C:\\Users\\JARED~1.GOD\\AppData\\Local\\Temp/ipykernel_27312/2401699346.py\"\u001b[1;36m, line \u001b[1;32m1\u001b[0m\n\u001b[1;33m    conn = pyodbc.connect(f'DRIVER=\"{ODBC Driver 18 for SQL Server}\";SERVER={host};DATABASE=HR;UID={user};PWD={password}')\u001b[0m\n\u001b[1;37m          ^\u001b[0m\n\u001b[1;31mSyntaxError\u001b[0m\u001b[1;31m:\u001b[0m f-string: invalid syntax\n"
     ]
    }
   ],
   "source": [
    "conn = pyodbc.connect(f'DRIVER=\"{ODBC Driver 18 for SQL Server}\";SERVER={host};DATABASE=HR;UID={user};PWD={password}')"
   ]
  },
  {
   "cell_type": "code",
   "execution_count": 35,
   "metadata": {},
   "outputs": [
    {
     "data": {
      "text/plain": [
       "['SQL Server',\n",
       " 'SQL Server Native Client 11.0',\n",
       " 'ODBC Driver 17 for SQL Server',\n",
       " 'ODBC Driver 18 for SQL Server']"
      ]
     },
     "execution_count": 35,
     "metadata": {},
     "output_type": "execute_result"
    }
   ],
   "source": [
    "pyodbc.drivers()"
   ]
  },
  {
   "cell_type": "code",
   "execution_count": null,
   "metadata": {},
   "outputs": [],
   "source": [
    "# Get connection to microsoft SQL db using  credentials from an env file\n",
    "\n",
    "def get_conn(db_name):\n",
    "    '''\n",
    "    '''\n",
    "    from env import username, server, password\n",
    "    "
   ]
  },
  {
   "cell_type": "markdown",
   "metadata": {},
   "source": [
    "---"
   ]
  },
  {
   "cell_type": "markdown",
   "metadata": {},
   "source": [
    "mymysql"
   ]
  },
  {
   "cell_type": "markdown",
   "metadata": {},
   "source": []
  }
 ],
 "metadata": {
  "interpreter": {
   "hash": "ad2bdc8ecc057115af97d19610ffacc2b4e99fae6737bb82f5d7fb13d2f2c186"
  },
  "kernelspec": {
   "display_name": "Python 3.9.7 ('base')",
   "language": "python",
   "name": "python3"
  },
  "language_info": {
   "codemirror_mode": {
    "name": "ipython",
    "version": 3
   },
   "file_extension": ".py",
   "mimetype": "text/x-python",
   "name": "python",
   "nbconvert_exporter": "python",
   "pygments_lexer": "ipython3",
   "version": "3.9.7"
  },
  "orig_nbformat": 4
 },
 "nbformat": 4,
 "nbformat_minor": 2
}
