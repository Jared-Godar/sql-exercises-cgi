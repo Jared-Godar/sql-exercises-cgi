{
    "metadata": {
        "kernelspec": {
            "name": "SQL",
            "display_name": "SQL",
            "language": "sql"
        },
        "language_info": {
            "name": "sql",
            "version": ""
        },
        "interpreter": {
            "hash": "ad2bdc8ecc057115af97d19610ffacc2b4e99fae6737bb82f5d7fb13d2f2c186"
        },
        "orig_nbformat": 4
    },
    "nbformat_minor": 2,
    "nbformat": 4,
    "cells": [
        {
            "cell_type": "markdown",
            "source": [
                "# Intrmediate SQL Exercises"
            ],
            "metadata": {
                "azdata_cell_guid": "d62a4c0b-710f-4cba-b51b-97c70ae1046c"
            }
        },
        {
            "cell_type": "markdown",
            "source": [
                "### EXERCISE – 16\n",
                "\n",
                "List the name of all the consultants from `CONSULTANTS` and `CONSULTANT_TITLE`. If the same name exists in both tables, then it should appear only once in the result set.\n"
            ],
            "metadata": {
                "azdata_cell_guid": "dab1f995-6d4b-4f5a-9176-f1ff4bfccb89"
            }
        },
        {
            "cell_type": "code",
            "source": [
                "SELECT \n",
                "  first_name, \n",
                "  last_name \n",
                "FROM \n",
                "  consultants \n",
                "UNION \n",
                "SELECT \n",
                "  first_name, \n",
                "  last_name \n",
                "FROM \n",
                "  consultant_title;\n",
                ""
            ],
            "metadata": {
                "vscode": {
                    "languageId": "sql"
                },
                "azdata_cell_guid": "42606f2c-8dd7-4cfa-acd6-3755e9085595",
                "language": "sql"
            },
            "outputs": [
                {
                    "output_type": "display_data",
                    "data": {
                        "text/html": "(24 rows affected)"
                    },
                    "metadata": {}
                },
                {
                    "output_type": "display_data",
                    "data": {
                        "text/html": "Total execution time: 00:00:00.115"
                    },
                    "metadata": {}
                },
                {
                    "output_type": "execute_result",
                    "metadata": {},
                    "execution_count": 4,
                    "data": {
                        "application/vnd.dataresource+json": {
                            "schema": {
                                "fields": [
                                    {
                                        "name": "first_name"
                                    },
                                    {
                                        "name": "last_name"
                                    }
                                ]
                            },
                            "data": [
                                {
                                    "0": "Aaron",
                                    "1": "Adams"
                                },
                                {
                                    "0": "Adam",
                                    "1": "Adams"
                                },
                                {
                                    "0": "Alisha",
                                    "1": "Alan"
                                },
                                {
                                    "0": "Bob",
                                    "1": "Alan"
                                },
                                {
                                    "0": "Catherine",
                                    "1": "Abel"
                                },
                                {
                                    "0": "Cindy",
                                    "1": "Jones"
                                },
                                {
                                    "0": "FirstName",
                                    "1": "LastName"
                                },
                                {
                                    "0": "François",
                                    "1": "Ajenstat"
                                },
                                {
                                    "0": "Gustavo",
                                    "1": "Achong"
                                },
                                {
                                    "0": "Hazem",
                                    "1": "Abolrous"
                                },
                                {
                                    "0": "Humberto",
                                    "1": "Acevedo"
                                },
                                {
                                    "0": "James",
                                    "1": "Aguilar"
                                },
                                {
                                    "0": "José",
                                    "1": "Saraiva"
                                },
                                {
                                    "0": "Kim",
                                    "1": "Abercrombie"
                                },
                                {
                                    "0": "Kim",
                                    "1": "Akers"
                                },
                                {
                                    "0": "Lili",
                                    "1": "Alameda"
                                },
                                {
                                    "0": "Osarumwense",
                                    "1": "Agbonile"
                                },
                                {
                                    "0": "Pilar",
                                    "1": "Ackerman"
                                },
                                {
                                    "0": "Robert",
                                    "1": "Ahlering"
                                },
                                {
                                    "0": "Ronald",
                                    "1": "Adina"
                                },
                                {
                                    "0": "Sam",
                                    "1": "Abolrous"
                                },
                                {
                                    "0": "Samuel",
                                    "1": "Agcaoili"
                                },
                                {
                                    "0": "Syed",
                                    "1": "Abbas"
                                },
                                {
                                    "0": "Whitney",
                                    "1": "Sara"
                                }
                            ]
                        },
                        "text/html": [
                            "<table>",
                            "<tr><th>first_name</th><th>last_name</th></tr>",
                            "<tr><td>Aaron</td><td>Adams</td></tr>",
                            "<tr><td>Adam</td><td>Adams</td></tr>",
                            "<tr><td>Alisha</td><td>Alan</td></tr>",
                            "<tr><td>Bob</td><td>Alan</td></tr>",
                            "<tr><td>Catherine</td><td>Abel</td></tr>",
                            "<tr><td>Cindy</td><td>Jones</td></tr>",
                            "<tr><td>FirstName</td><td>LastName</td></tr>",
                            "<tr><td>François</td><td>Ajenstat</td></tr>",
                            "<tr><td>Gustavo</td><td>Achong</td></tr>",
                            "<tr><td>Hazem</td><td>Abolrous</td></tr>",
                            "<tr><td>Humberto</td><td>Acevedo</td></tr>",
                            "<tr><td>James</td><td>Aguilar</td></tr>",
                            "<tr><td>José</td><td>Saraiva</td></tr>",
                            "<tr><td>Kim</td><td>Abercrombie</td></tr>",
                            "<tr><td>Kim</td><td>Akers</td></tr>",
                            "<tr><td>Lili</td><td>Alameda</td></tr>",
                            "<tr><td>Osarumwense</td><td>Agbonile</td></tr>",
                            "<tr><td>Pilar</td><td>Ackerman</td></tr>",
                            "<tr><td>Robert</td><td>Ahlering</td></tr>",
                            "<tr><td>Ronald</td><td>Adina</td></tr>",
                            "<tr><td>Sam</td><td>Abolrous</td></tr>",
                            "<tr><td>Samuel</td><td>Agcaoili</td></tr>",
                            "<tr><td>Syed</td><td>Abbas</td></tr>",
                            "<tr><td>Whitney</td><td>Sara</td></tr>",
                            "</table>"
                        ]
                    }
                }
            ],
            "execution_count": 4
        },
        {
            "cell_type": "markdown",
            "source": [
                "24 records"
            ],
            "metadata": {
                "azdata_cell_guid": "bbf60f13-f9a5-4a9c-a824-f7435a6b4566"
            }
        },
        {
            "cell_type": "markdown",
            "source": [
                "### EXERCISE – 17\n",
                "\n",
                "List the name of all the consultants that are common between the `CONSULTANTS` and `CONSULTANTS_TITLE` tables. If the same name exists in both the tables, then it should appear twice in the result set.\n"
            ],
            "metadata": {
                "azdata_cell_guid": "70538f08-54c2-4ae9-a648-279a0b711b70"
            }
        },
        {
            "cell_type": "code",
            "source": [
                "SELECT \n",
                "  first_name, \n",
                "  last_name \n",
                "FROM \n",
                "  consultants \n",
                "UNION ALL \n",
                "SELECT \n",
                "  first_name, \n",
                "  last_name \n",
                "FROM \n",
                "  consultant_title;\n"
            ],
            "metadata": {
                "vscode": {
                    "languageId": "sql"
                },
                "azdata_cell_guid": "30cffc4c-fadb-459b-9d12-6643e03aa4c3",
                "language": "sql"
            },
            "outputs": [
                {
                    "output_type": "display_data",
                    "data": {
                        "text/html": "(39 rows affected)"
                    },
                    "metadata": {}
                },
                {
                    "output_type": "display_data",
                    "data": {
                        "text/html": "Total execution time: 00:00:00.070"
                    },
                    "metadata": {}
                },
                {
                    "output_type": "execute_result",
                    "metadata": {},
                    "execution_count": 5,
                    "data": {
                        "application/vnd.dataresource+json": {
                            "schema": {
                                "fields": [
                                    {
                                        "name": "first_name"
                                    },
                                    {
                                        "name": "last_name"
                                    }
                                ]
                            },
                            "data": [
                                {
                                    "0": "Syed",
                                    "1": "Abbas"
                                },
                                {
                                    "0": "Catherine",
                                    "1": "Abel"
                                },
                                {
                                    "0": "Kim",
                                    "1": "Abercrombie"
                                },
                                {
                                    "0": "Hazem",
                                    "1": "Abolrous"
                                },
                                {
                                    "0": "Sam",
                                    "1": "Abolrous"
                                },
                                {
                                    "0": "Humberto",
                                    "1": "Acevedo"
                                },
                                {
                                    "0": "Gustavo",
                                    "1": "Achong"
                                },
                                {
                                    "0": "Pilar",
                                    "1": "Ackerman"
                                },
                                {
                                    "0": "Aaron",
                                    "1": "Adams"
                                },
                                {
                                    "0": "Adam",
                                    "1": "Adams"
                                },
                                {
                                    "0": "Ronald",
                                    "1": "Adina"
                                },
                                {
                                    "0": "Osarumwense",
                                    "1": "Agbonile"
                                },
                                {
                                    "0": "Samuel",
                                    "1": "Agcaoili"
                                },
                                {
                                    "0": "James",
                                    "1": "Aguilar"
                                },
                                {
                                    "0": "Robert",
                                    "1": "Ahlering"
                                },
                                {
                                    "0": "François",
                                    "1": "Ajenstat"
                                },
                                {
                                    "0": "Kim",
                                    "1": "Akers"
                                },
                                {
                                    "0": "Lili",
                                    "1": "Alameda"
                                },
                                {
                                    "0": "Alisha",
                                    "1": "Alan"
                                },
                                {
                                    "0": "Bob",
                                    "1": "Alan"
                                },
                                {
                                    "0": "Whitney",
                                    "1": "Sara"
                                },
                                {
                                    "0": "José",
                                    "1": "Saraiva"
                                },
                                {
                                    "0": "Cindy",
                                    "1": "Jones"
                                },
                                {
                                    "0": "Syed",
                                    "1": "Abbas"
                                },
                                {
                                    "0": "Catherine",
                                    "1": "Abel"
                                },
                                {
                                    "0": "Kim",
                                    "1": "Abercrombie"
                                },
                                {
                                    "0": "Hazem",
                                    "1": "Abolrous"
                                },
                                {
                                    "0": "Sam",
                                    "1": "Abolrous"
                                },
                                {
                                    "0": "Humberto",
                                    "1": "Acevedo"
                                },
                                {
                                    "0": "Gustavo",
                                    "1": "Achong"
                                },
                                {
                                    "0": "Pilar",
                                    "1": "Ackerman"
                                },
                                {
                                    "0": "Aaron",
                                    "1": "Adams"
                                },
                                {
                                    "0": "Adam",
                                    "1": "Adams"
                                },
                                {
                                    "0": "FirstName",
                                    "1": "LastName"
                                },
                                {
                                    "0": "Ronald",
                                    "1": "Adina"
                                },
                                {
                                    "0": "Osarumwense",
                                    "1": "Agbonile"
                                },
                                {
                                    "0": "Samuel",
                                    "1": "Agcaoili"
                                },
                                {
                                    "0": "James",
                                    "1": "Aguilar"
                                },
                                {
                                    "0": "Robert",
                                    "1": "Ahlering"
                                }
                            ]
                        },
                        "text/html": [
                            "<table>",
                            "<tr><th>first_name</th><th>last_name</th></tr>",
                            "<tr><td>Syed</td><td>Abbas</td></tr>",
                            "<tr><td>Catherine</td><td>Abel</td></tr>",
                            "<tr><td>Kim</td><td>Abercrombie</td></tr>",
                            "<tr><td>Hazem</td><td>Abolrous</td></tr>",
                            "<tr><td>Sam</td><td>Abolrous</td></tr>",
                            "<tr><td>Humberto</td><td>Acevedo</td></tr>",
                            "<tr><td>Gustavo</td><td>Achong</td></tr>",
                            "<tr><td>Pilar</td><td>Ackerman</td></tr>",
                            "<tr><td>Aaron</td><td>Adams</td></tr>",
                            "<tr><td>Adam</td><td>Adams</td></tr>",
                            "<tr><td>Ronald</td><td>Adina</td></tr>",
                            "<tr><td>Osarumwense</td><td>Agbonile</td></tr>",
                            "<tr><td>Samuel</td><td>Agcaoili</td></tr>",
                            "<tr><td>James</td><td>Aguilar</td></tr>",
                            "<tr><td>Robert</td><td>Ahlering</td></tr>",
                            "<tr><td>François</td><td>Ajenstat</td></tr>",
                            "<tr><td>Kim</td><td>Akers</td></tr>",
                            "<tr><td>Lili</td><td>Alameda</td></tr>",
                            "<tr><td>Alisha</td><td>Alan</td></tr>",
                            "<tr><td>Bob</td><td>Alan</td></tr>",
                            "<tr><td>Whitney</td><td>Sara</td></tr>",
                            "<tr><td>José</td><td>Saraiva</td></tr>",
                            "<tr><td>Cindy</td><td>Jones</td></tr>",
                            "<tr><td>Syed</td><td>Abbas</td></tr>",
                            "<tr><td>Catherine</td><td>Abel</td></tr>",
                            "<tr><td>Kim</td><td>Abercrombie</td></tr>",
                            "<tr><td>Hazem</td><td>Abolrous</td></tr>",
                            "<tr><td>Sam</td><td>Abolrous</td></tr>",
                            "<tr><td>Humberto</td><td>Acevedo</td></tr>",
                            "<tr><td>Gustavo</td><td>Achong</td></tr>",
                            "<tr><td>Pilar</td><td>Ackerman</td></tr>",
                            "<tr><td>Aaron</td><td>Adams</td></tr>",
                            "<tr><td>Adam</td><td>Adams</td></tr>",
                            "<tr><td>FirstName</td><td>LastName</td></tr>",
                            "<tr><td>Ronald</td><td>Adina</td></tr>",
                            "<tr><td>Osarumwense</td><td>Agbonile</td></tr>",
                            "<tr><td>Samuel</td><td>Agcaoili</td></tr>",
                            "<tr><td>James</td><td>Aguilar</td></tr>",
                            "<tr><td>Robert</td><td>Ahlering</td></tr>",
                            "</table>"
                        ]
                    }
                }
            ],
            "execution_count": 5
        },
        {
            "cell_type": "markdown",
            "source": [
                "39 Rows"
            ],
            "metadata": {
                "azdata_cell_guid": "1d8618c2-8063-4113-9419-f5189a8eb1a1"
            }
        },
        {
            "cell_type": "markdown",
            "source": [
                "### EXERCISE – 18\n",
                "\n",
                "List the name of all the consultants that exist in both the tables - `CONSULTANTS` and `CONSULTANTS_TITLE`. \n"
            ],
            "metadata": {
                "azdata_cell_guid": "789c964b-c1c1-44d6-af1c-7f00b2e2919a"
            }
        },
        {
            "cell_type": "code",
            "source": [
                "SELECT \n",
                "  first_name, \n",
                "  last_name \n",
                "FROM \n",
                "  consultants \n",
                "INTERSECT\n",
                "SELECT \n",
                "  first_name, \n",
                "  last_name \n",
                "FROM \n",
                "  consultant_title;\n"
            ],
            "metadata": {
                "vscode": {
                    "languageId": "sql"
                },
                "azdata_cell_guid": "4cdc9707-cfb1-48fa-aaac-2cc0d7134431",
                "language": "sql"
            },
            "outputs": [
                {
                    "output_type": "display_data",
                    "data": {
                        "text/html": "(15 rows affected)"
                    },
                    "metadata": {}
                },
                {
                    "output_type": "display_data",
                    "data": {
                        "text/html": "Total execution time: 00:00:00.074"
                    },
                    "metadata": {}
                },
                {
                    "output_type": "execute_result",
                    "metadata": {},
                    "execution_count": 6,
                    "data": {
                        "application/vnd.dataresource+json": {
                            "schema": {
                                "fields": [
                                    {
                                        "name": "first_name"
                                    },
                                    {
                                        "name": "last_name"
                                    }
                                ]
                            },
                            "data": [
                                {
                                    "0": "Aaron",
                                    "1": "Adams"
                                },
                                {
                                    "0": "Adam",
                                    "1": "Adams"
                                },
                                {
                                    "0": "Catherine",
                                    "1": "Abel"
                                },
                                {
                                    "0": "Gustavo",
                                    "1": "Achong"
                                },
                                {
                                    "0": "Hazem",
                                    "1": "Abolrous"
                                },
                                {
                                    "0": "Humberto",
                                    "1": "Acevedo"
                                },
                                {
                                    "0": "James",
                                    "1": "Aguilar"
                                },
                                {
                                    "0": "Kim",
                                    "1": "Abercrombie"
                                },
                                {
                                    "0": "Osarumwense",
                                    "1": "Agbonile"
                                },
                                {
                                    "0": "Pilar",
                                    "1": "Ackerman"
                                },
                                {
                                    "0": "Robert",
                                    "1": "Ahlering"
                                },
                                {
                                    "0": "Ronald",
                                    "1": "Adina"
                                },
                                {
                                    "0": "Sam",
                                    "1": "Abolrous"
                                },
                                {
                                    "0": "Samuel",
                                    "1": "Agcaoili"
                                },
                                {
                                    "0": "Syed",
                                    "1": "Abbas"
                                }
                            ]
                        },
                        "text/html": [
                            "<table>",
                            "<tr><th>first_name</th><th>last_name</th></tr>",
                            "<tr><td>Aaron</td><td>Adams</td></tr>",
                            "<tr><td>Adam</td><td>Adams</td></tr>",
                            "<tr><td>Catherine</td><td>Abel</td></tr>",
                            "<tr><td>Gustavo</td><td>Achong</td></tr>",
                            "<tr><td>Hazem</td><td>Abolrous</td></tr>",
                            "<tr><td>Humberto</td><td>Acevedo</td></tr>",
                            "<tr><td>James</td><td>Aguilar</td></tr>",
                            "<tr><td>Kim</td><td>Abercrombie</td></tr>",
                            "<tr><td>Osarumwense</td><td>Agbonile</td></tr>",
                            "<tr><td>Pilar</td><td>Ackerman</td></tr>",
                            "<tr><td>Robert</td><td>Ahlering</td></tr>",
                            "<tr><td>Ronald</td><td>Adina</td></tr>",
                            "<tr><td>Sam</td><td>Abolrous</td></tr>",
                            "<tr><td>Samuel</td><td>Agcaoili</td></tr>",
                            "<tr><td>Syed</td><td>Abbas</td></tr>",
                            "</table>"
                        ]
                    }
                }
            ],
            "execution_count": 6
        },
        {
            "cell_type": "markdown",
            "source": [
                "15 Rows"
            ],
            "metadata": {
                "azdata_cell_guid": "cc3dca24-1a2c-4fe3-978c-e4e34a4fd12e"
            }
        },
        {
            "cell_type": "markdown",
            "source": [
                "### EXERCISE – 19\n",
                "\n",
                "List all the jobs that exist in JOBS table, but do not exist in the JOB_HISTORY table.\n"
            ],
            "metadata": {
                "azdata_cell_guid": "f900e60c-ac7d-497a-815e-e05f329ec5a4"
            }
        },
        {
            "cell_type": "code",
            "source": [
                "SELECT * FROM JOBS\n",
                "EXCEPT \n",
                "SELECT * FROM JOB_HISTORY;"
            ],
            "metadata": {
                "vscode": {
                    "languageId": "sql"
                },
                "azdata_cell_guid": "986d5343-8171-4ed5-83ce-001484745672",
                "language": "sql"
            },
            "outputs": [],
            "execution_count": null
        },
        {
            "cell_type": "markdown",
            "source": [
                "9 Rows"
            ],
            "metadata": {
                "azdata_cell_guid": "4070b76c-6fe9-48ee-82cb-4b164d2beca8"
            }
        },
        {
            "cell_type": "markdown",
            "source": [
                "### EXERCISE - 20\n",
                "\n",
                "Find out if any consultant works for both client 1 and client 2. Exclude any such client that is from New York.\n"
            ],
            "metadata": {
                "azdata_cell_guid": "33bb605d-2780-4d28-bce6-06422cf27a9a"
            }
        },
        {
            "cell_type": "code",
            "source": [
                "SELECT \n",
                "  * \n",
                "FROM \n",
                "  consultants_client1 \n",
                "WHERE \n",
                "  state != 'NY' \n",
                "INTERSECT \n",
                "SELECT \n",
                "  * \n",
                "FROM \n",
                "  consultants_client2 \n",
                "WHERE \n",
                "  state != 'NY';\n",
                ""
            ],
            "metadata": {
                "vscode": {
                    "languageId": "sql"
                },
                "azdata_cell_guid": "32c74b00-e47d-4d25-8615-d0af58e310c3",
                "language": "sql"
            },
            "outputs": [
                {
                    "output_type": "display_data",
                    "data": {
                        "text/html": "(0 rows affected)"
                    },
                    "metadata": {}
                },
                {
                    "output_type": "display_data",
                    "data": {
                        "text/html": "Total execution time: 00:00:00.067"
                    },
                    "metadata": {}
                },
                {
                    "output_type": "execute_result",
                    "metadata": {},
                    "execution_count": 8,
                    "data": {
                        "application/vnd.dataresource+json": {
                            "schema": {
                                "fields": [
                                    {
                                        "name": "FIRST_NAME"
                                    },
                                    {
                                        "name": "LAST_NAME"
                                    },
                                    {
                                        "name": "CITY"
                                    },
                                    {
                                        "name": "STATE"
                                    },
                                    {
                                        "name": "GENDER"
                                    },
                                    {
                                        "name": "AGE"
                                    }
                                ]
                            },
                            "data": []
                        },
                        "text/html": [
                            "<table>",
                            "<tr><th>FIRST_NAME</th><th>LAST_NAME</th><th>CITY</th><th>STATE</th><th>GENDER</th><th>AGE</th></tr>",
                            "</table>"
                        ]
                    }
                }
            ],
            "execution_count": 8
        },
        {
            "cell_type": "markdown",
            "source": [
                "0 records returned"
            ],
            "metadata": {
                "azdata_cell_guid": "5bc67185-9f6a-49d0-a28c-dd5e0697e7a5"
            }
        },
        {
            "cell_type": "markdown",
            "source": [
                "### EXERCISE – 22\n",
                "\n",
                "List all the employees that have a hire date that is earlier than the hire date of employee ID 110 (John)\n",
                "\n",
                "*HINT: Use the EMPLOYEES table*"
            ],
            "metadata": {
                "azdata_cell_guid": "df85fd01-4ade-474c-b912-7974e81540a8"
            }
        },
        {
            "cell_type": "code",
            "source": [],
            "metadata": {
                "vscode": {
                    "languageId": "sql"
                },
                "azdata_cell_guid": "c1b83eeb-91ba-4d18-8059-c0252aa94d94",
                "language": "sql"
            },
            "outputs": [],
            "execution_count": null
        },
        {
            "cell_type": "markdown",
            "source": [
                "### EXERCISE – 23\n",
                "\n",
                "List all the names of consultants and their job title. The result set should **ONLY** display consultants that do not exist in the `CONSULTANTS` table.\n"
            ],
            "metadata": {
                "azdata_cell_guid": "089bed09-96c1-4d74-850c-c952c05990c3"
            }
        },
        {
            "cell_type": "markdown",
            "source": [],
            "metadata": {
                "azdata_cell_guid": "aa9d02ff-a2b2-46c1-bbd8-3138bd635062"
            }
        },
        {
            "cell_type": "code",
            "source": [],
            "metadata": {
                "vscode": {
                    "languageId": "sql"
                },
                "azdata_cell_guid": "471662f9-0e54-4e68-95cb-9aaebd76b820",
                "language": "sql"
            },
            "outputs": [],
            "execution_count": null
        },
        {
            "cell_type": "markdown",
            "source": [
                "### EXERCISE 24\n",
                "\n",
                "List all the countries, and the corresponding region name."
            ],
            "metadata": {
                "azdata_cell_guid": "e426dd17-9199-4447-b538-7d97d58fadde"
            }
        },
        {
            "cell_type": "code",
            "source": [],
            "metadata": {
                "vscode": {
                    "languageId": "sql"
                },
                "azdata_cell_guid": "bfd7d992-b296-4649-b62c-2c7869bbee1a",
                "language": "sql"
            },
            "outputs": [],
            "execution_count": null
        },
        {
            "cell_type": "markdown",
            "source": [
                "### EXERCISE 25\n",
                "\n",
                "Find the list of all employees, and their salary where their salary is less than the average salary of all employees. Display the results beginning with lower salary first.\n"
            ],
            "metadata": {
                "azdata_cell_guid": "8dd5557b-f9a6-4239-8756-4f4a173ffb3c"
            }
        },
        {
            "cell_type": "code",
            "source": [],
            "metadata": {
                "vscode": {
                    "languageId": "sql"
                },
                "azdata_cell_guid": "3552cdfb-992f-4a7b-9dfd-6b8c7b82596f",
                "language": "sql"
            },
            "outputs": [],
            "execution_count": null
        },
        {
            "cell_type": "markdown",
            "source": [
                "### EXERCISE – 26\n",
                "\n",
                "Find the list of all employees, and their salary where their salary is less than the average salary of their department. Display the results beginning with lower salary first.\n"
            ],
            "metadata": {
                "azdata_cell_guid": "2ebb870a-3936-4796-ab8c-329dae0684f5"
            }
        },
        {
            "cell_type": "code",
            "source": [],
            "metadata": {
                "vscode": {
                    "languageId": "sql"
                },
                "azdata_cell_guid": "a1473d8d-0555-40b2-aaca-0967bef81f39",
                "language": "sql"
            },
            "outputs": [],
            "execution_count": null
        },
        {
            "cell_type": "markdown",
            "source": [
                "### EXERCISE – 27\n",
                "\n",
                "Step 1: \n",
                "\tUpdate the gender for Cindy Jones to be a blank.\n",
                "Step 2:\n",
                "\tDisplay the name of each consultant and their gender. If the value of gender is “M”, then the display result should be “Male”. Similarly, if the value of gender is “F”, then the display result should be “Female”.  Any other value for gender should be displayed as “Unknown”.\n"
            ],
            "metadata": {
                "azdata_cell_guid": "b9ca31c0-1169-4135-bdf0-2bcc87b3dcc8"
            }
        },
        {
            "cell_type": "code",
            "source": [],
            "metadata": {
                "vscode": {
                    "languageId": "sql"
                },
                "azdata_cell_guid": "1af7475a-6aee-4e0f-9cc1-5ccf34a62684",
                "language": "sql"
            },
            "outputs": [],
            "execution_count": null
        },
        {
            "cell_type": "markdown",
            "source": [
                "### EXERCISE – 28\n",
                "\n",
                "Display the name of each employee, their monthly salary, and a message. The message is as follows:\n",
                "\n",
                "- If they make under 5000 a month : “Level 1”\n",
                "- If they make between 5000 and 10,000 a month: “Level 2”\n",
                "- If they make over 10,000 a month: “Level 3”\n"
            ],
            "metadata": {
                "azdata_cell_guid": "62c19866-b4b7-48a0-805d-5c9f55c218f6"
            }
        },
        {
            "cell_type": "code",
            "source": [],
            "metadata": {
                "vscode": {
                    "languageId": "sql"
                },
                "azdata_cell_guid": "8ac1d321-57d1-4b3f-8c8d-864b180dc05d",
                "language": "sql"
            },
            "outputs": [],
            "execution_count": null
        },
        {
            "cell_type": "markdown",
            "source": [
                "### EXERCISE 29\n",
                "\n",
                "The monthly bonus calculated by Finance, was incorrectly flagged as Annual Bonus in the `BONUS_SCHEDULE` table in the database.\n",
                "\n",
                "- Rename `ANNUAL_BONUS` as `MONTHLY_BONUS`\n",
                "- Add a new column called `ANNUAL_BONUS`\n",
                "- Populate data in this column using the generic formula \n",
                "`ANNUAL_BONUS = MONTHLY_BONUS * 12|`\n"
            ],
            "metadata": {
                "azdata_cell_guid": "f39f29dc-f49a-4e60-884c-9bf925c9deaf"
            }
        },
        {
            "cell_type": "code",
            "source": [],
            "metadata": {
                "vscode": {
                    "languageId": "sql"
                },
                "azdata_cell_guid": "f0ae56d9-2808-4d7e-aa75-1791621882eb",
                "language": "sql"
            },
            "outputs": [],
            "execution_count": null
        },
        {
            "cell_type": "markdown",
            "source": [
                "### EXERCISE – 30\n",
                "\n",
                "Provide the list of folks that don’t have `DEPENDENT_ID` tied to them in `EMPLOYEES` table. The result set needs to have the following information:\n",
                "\n",
                "- Name (First Initial & Last Name)\n",
                "- Dependent Id\n"
            ],
            "metadata": {
                "azdata_cell_guid": "8eaa81ef-de14-4dcc-bfab-8e2c4806242b"
            }
        },
        {
            "cell_type": "code",
            "source": [],
            "metadata": {
                "vscode": {
                    "languageId": "sql"
                },
                "azdata_cell_guid": "c56a4a29-b88e-4b18-be4e-f88bede534ee",
                "language": "sql"
            },
            "outputs": [],
            "execution_count": null
        },
        {
            "cell_type": "markdown",
            "source": [
                "### EXERCISE – 31\n",
                "\n",
                "Conversely, provide the list of dependents that don’t have any employees tied to them in `EMPLOYEES` table. "
            ],
            "metadata": {
                "azdata_cell_guid": "6490f37d-c433-4239-808d-3117afd50e9d"
            }
        },
        {
            "cell_type": "code",
            "source": [],
            "metadata": {
                "vscode": {
                    "languageId": "sql"
                },
                "azdata_cell_guid": "e1bc8254-ad12-4269-8676-347d9e2d2a08",
                "language": "sql"
            },
            "outputs": [],
            "execution_count": null
        },
        {
            "cell_type": "markdown",
            "source": [
                "### EXERCISE – 32\n",
                "\n",
                "Create a report with the name of the supplier, the state and the time zone they are in. "
            ],
            "metadata": {
                "azdata_cell_guid": "797efe44-cb73-44a0-8227-ddfcf8d0b3ce"
            }
        },
        {
            "cell_type": "code",
            "source": [],
            "metadata": {
                "vscode": {
                    "languageId": "sql"
                },
                "azdata_cell_guid": "b2303f46-df67-48f9-a902-462026ac3749",
                "language": "sql"
            },
            "outputs": [],
            "execution_count": null
        },
        {
            "cell_type": "markdown",
            "source": [],
            "metadata": {
                "azdata_cell_guid": "ea85e77c-03c0-479e-9049-fbf154e13054"
            }
        }
    ]
}