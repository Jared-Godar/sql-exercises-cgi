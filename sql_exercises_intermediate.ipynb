{
 "cells": [
  {
   "cell_type": "markdown",
   "metadata": {},
   "source": [
    "# Intrmediate SQL Exercises"
   ]
  },
  {
   "cell_type": "markdown",
   "metadata": {},
   "source": [
    "### EXERCISE – 16\n",
    "\n",
    "List the name of all the consultants from `CONSULTANTS` and `CONSULTANT_TITLE`. If the same name exists in both tables, then it should appear only once in the result set.\n"
   ]
  },
  {
   "cell_type": "code",
   "execution_count": null,
   "metadata": {
    "vscode": {
     "languageId": "sql"
    }
   },
   "outputs": [],
   "source": [
    "SELECT \n",
    "  first_name, \n",
    "  last_name \n",
    "FROM \n",
    "  consultants \n",
    "UNION \n",
    "SELECT \n",
    "  first_name, \n",
    "  last_name \n",
    "FROM \n",
    "  consultant_title;\n"
   ]
  },
  {
   "cell_type": "markdown",
   "metadata": {},
   "source": [
    "24 records"
   ]
  },
  {
   "cell_type": "markdown",
   "metadata": {},
   "source": [
    "### EXERCISE – 17\n",
    "\n",
    "List the name of all the consultants that are common between the `CONSULTANTS` and `CONSULTANTS_TITLE` tables. If the same name exists in both the tables, then it should appear twice in the result set.\n"
   ]
  },
  {
   "cell_type": "code",
   "execution_count": null,
   "metadata": {
    "vscode": {
     "languageId": "sql"
    }
   },
   "outputs": [],
   "source": []
  },
  {
   "cell_type": "markdown",
   "metadata": {},
   "source": [
    "### EXERCISE – 18\n",
    "\n",
    "List the name of all the consultants that exist in both the tables - `CONSULTANTS` and `CONSULTANTS_TITLE`. \n"
   ]
  },
  {
   "cell_type": "code",
   "execution_count": null,
   "metadata": {
    "vscode": {
     "languageId": "sql"
    }
   },
   "outputs": [],
   "source": []
  },
  {
   "cell_type": "markdown",
   "metadata": {},
   "source": [
    "### EXERCISE – 19\n",
    "\n",
    "List all the jobs that exist in JOBS table, but do not exist in the JOB_HISTORY table.\n"
   ]
  },
  {
   "cell_type": "code",
   "execution_count": null,
   "metadata": {
    "vscode": {
     "languageId": "sql"
    }
   },
   "outputs": [],
   "source": []
  },
  {
   "cell_type": "markdown",
   "metadata": {},
   "source": [
    "### EXERCISE - 20\n",
    "\n",
    "Find out if any consultant works for both client 1 and client 2. Exclude any such client that is from New York.\n"
   ]
  },
  {
   "cell_type": "code",
   "execution_count": null,
   "metadata": {
    "vscode": {
     "languageId": "sql"
    }
   },
   "outputs": [],
   "source": []
  },
  {
   "cell_type": "markdown",
   "metadata": {},
   "source": [
    "### EXERCISE – 22\n",
    "\n",
    "List all the employees that have a hire date that is earlier than the hire date of employee ID 110 (John)\n",
    "\n",
    "*HINT: Use the EMPLOYEES table*"
   ]
  },
  {
   "cell_type": "code",
   "execution_count": null,
   "metadata": {
    "vscode": {
     "languageId": "sql"
    }
   },
   "outputs": [],
   "source": []
  },
  {
   "cell_type": "markdown",
   "metadata": {},
   "source": [
    "### EXERCISE – 23\n",
    "\n",
    "List all the names of consultants and their job title. The result set should **ONLY** display consultants that do not exist in the `CONSULTANTS` table.\n"
   ]
  },
  {
   "cell_type": "code",
   "execution_count": null,
   "metadata": {
    "vscode": {
     "languageId": "sql"
    }
   },
   "outputs": [],
   "source": []
  },
  {
   "cell_type": "markdown",
   "metadata": {},
   "source": [
    "### EXERCISE 24\n",
    "\n",
    "List all the countries, and the corresponding region name."
   ]
  },
  {
   "cell_type": "code",
   "execution_count": null,
   "metadata": {
    "vscode": {
     "languageId": "sql"
    }
   },
   "outputs": [],
   "source": []
  },
  {
   "cell_type": "markdown",
   "metadata": {},
   "source": [
    "### EXERCISE 25\n",
    "\n",
    "Find the list of all employees, and their salary where their salary is less than the average salary of all employees. Display the results beginning with lower salary first.\n"
   ]
  },
  {
   "cell_type": "code",
   "execution_count": null,
   "metadata": {
    "vscode": {
     "languageId": "sql"
    }
   },
   "outputs": [],
   "source": []
  },
  {
   "cell_type": "markdown",
   "metadata": {},
   "source": [
    "### EXERCISE – 26\n",
    "\n",
    "Find the list of all employees, and their salary where their salary is less than the average salary of their department. Display the results beginning with lower salary first.\n"
   ]
  },
  {
   "cell_type": "code",
   "execution_count": null,
   "metadata": {
    "vscode": {
     "languageId": "sql"
    }
   },
   "outputs": [],
   "source": []
  },
  {
   "cell_type": "markdown",
   "metadata": {},
   "source": [
    "### EXERCISE – 27\n",
    "\n",
    "Step 1: \n",
    "\tUpdate the gender for Cindy Jones to be a blank.\n",
    "Step 2:\n",
    "\tDisplay the name of each consultant and their gender. If the value of gender is “M”, then the display result should be “Male”. Similarly, if the value of gender is “F”, then the display result should be “Female”.  Any other value for gender should be displayed as “Unknown”.\n"
   ]
  },
  {
   "cell_type": "code",
   "execution_count": null,
   "metadata": {
    "vscode": {
     "languageId": "sql"
    }
   },
   "outputs": [],
   "source": []
  },
  {
   "cell_type": "markdown",
   "metadata": {},
   "source": [
    "### EXERCISE – 28\n",
    "\n",
    "Display the name of each employee, their monthly salary, and a message. The message is as follows:\n",
    "\n",
    "- If they make under 5000 a month : “Level 1”\n",
    "- If they make between 5000 and 10,000 a month: “Level 2”\n",
    "- If they make over 10,000 a month: “Level 3”\n"
   ]
  },
  {
   "cell_type": "code",
   "execution_count": null,
   "metadata": {
    "vscode": {
     "languageId": "sql"
    }
   },
   "outputs": [],
   "source": []
  },
  {
   "cell_type": "markdown",
   "metadata": {},
   "source": [
    "### EXERCISE 29\n",
    "\n",
    "The monthly bonus calculated by Finance, was incorrectly flagged as Annual Bonus in the `BONUS_SCHEDULE` table in the database.\n",
    "\n",
    "- Rename `ANNUAL_BONUS` as `MONTHLY_BONUS`\n",
    "- Add a new column called `ANNUAL_BONUS`\n",
    "- Populate data in this column using the generic formula \n",
    "`ANNUAL_BONUS = MONTHLY_BONUS * 12|`\n"
   ]
  },
  {
   "cell_type": "code",
   "execution_count": null,
   "metadata": {
    "vscode": {
     "languageId": "sql"
    }
   },
   "outputs": [],
   "source": []
  },
  {
   "cell_type": "markdown",
   "metadata": {},
   "source": [
    "### EXERCISE – 30\n",
    "\n",
    "Provide the list of folks that don’t have `DEPENDENT_ID` tied to them in `EMPLOYEES` table. The result set needs to have the following information:\n",
    "\n",
    "- Name (First Initial & Last Name)\n",
    "- Dependent Id\n"
   ]
  },
  {
   "cell_type": "code",
   "execution_count": null,
   "metadata": {
    "vscode": {
     "languageId": "sql"
    }
   },
   "outputs": [],
   "source": []
  },
  {
   "cell_type": "markdown",
   "metadata": {},
   "source": [
    "### EXERCISE – 31\n",
    "\n",
    "Conversely, provide the list of dependents that don’t have any employees tied to them in `EMPLOYEES` table. "
   ]
  },
  {
   "cell_type": "code",
   "execution_count": null,
   "metadata": {
    "vscode": {
     "languageId": "sql"
    }
   },
   "outputs": [],
   "source": []
  },
  {
   "cell_type": "markdown",
   "metadata": {},
   "source": [
    "### EXERCISE – 32\n",
    "\n",
    "Create a report with the name of the supplier, the state and the time zone they are in. "
   ]
  },
  {
   "cell_type": "code",
   "execution_count": null,
   "metadata": {
    "vscode": {
     "languageId": "sql"
    }
   },
   "outputs": [],
   "source": []
  },
  {
   "cell_type": "markdown",
   "metadata": {},
   "source": []
  }
 ],
 "metadata": {
  "interpreter": {
   "hash": "ad2bdc8ecc057115af97d19610ffacc2b4e99fae6737bb82f5d7fb13d2f2c186"
  },
  "kernelspec": {
   "display_name": "Python 3.9.7 ('base')",
   "language": "python",
   "name": "python3"
  },
  "language_info": {
   "codemirror_mode": {
    "name": "ipython",
    "version": 3
   },
   "file_extension": ".py",
   "mimetype": "text/x-python",
   "name": "python",
   "nbconvert_exporter": "python",
   "pygments_lexer": "ipython3",
   "version": "3.9.7"
  },
  "orig_nbformat": 4
 },
 "nbformat": 4,
 "nbformat_minor": 2
}
